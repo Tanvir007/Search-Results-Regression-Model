{
 "cells": [
  {
   "cell_type": "code",
   "execution_count": 1,
   "id": "a7d7723f",
   "metadata": {
    "_cell_guid": "b1076dfc-b9ad-4769-8c92-a6c4dae69d19",
    "_uuid": "8f2839f25d086af736a60e9eeb907d3b93b6e0e5",
    "execution": {
     "iopub.execute_input": "2023-01-10T07:40:39.104394Z",
     "iopub.status.busy": "2023-01-10T07:40:39.103879Z",
     "iopub.status.idle": "2023-01-10T07:40:39.117219Z",
     "shell.execute_reply": "2023-01-10T07:40:39.115986Z"
    },
    "papermill": {
     "duration": 0.023048,
     "end_time": "2023-01-10T07:40:39.119480",
     "exception": false,
     "start_time": "2023-01-10T07:40:39.096432",
     "status": "completed"
    },
    "tags": []
   },
   "outputs": [
    {
     "name": "stdout",
     "output_type": "stream",
     "text": [
      "/kaggle/input/crowdflower-search-relevance/train.csv.zip\n",
      "/kaggle/input/crowdflower-search-relevance/sampleSubmission.csv.zip\n",
      "/kaggle/input/crowdflower-search-relevance/test.csv.zip\n"
     ]
    }
   ],
   "source": [
    "# This Python 3 environment comes with many helpful analytics libraries installed\n",
    "# It is defined by the kaggle/python Docker image: https://github.com/kaggle/docker-python\n",
    "# For example, here's several helpful packages to load\n",
    "\n",
    "import numpy as np # linear algebra\n",
    "import pandas as pd # data processing, CSV file I/O (e.g. pd.read_csv)\n",
    "\n",
    "# Input data files are available in the read-only \"../input/\" directory\n",
    "# For example, running this (by clicking run or pressing Shift+Enter) will list all files under the input directory\n",
    "\n",
    "import os\n",
    "for dirname, _, filenames in os.walk('/kaggle/input'):\n",
    "    for filename in filenames:\n",
    "        print(os.path.join(dirname, filename))\n",
    "\n",
    "# You can write up to 20GB to the current directory (/kaggle/working/) that gets preserved as output when you create a version using \"Save & Run All\" \n",
    "# You can also write temporary files to /kaggle/temp/, but they won't be saved outside of the current session"
   ]
  },
  {
   "cell_type": "code",
   "execution_count": 2,
   "id": "0990438f",
   "metadata": {
    "execution": {
     "iopub.execute_input": "2023-01-10T07:40:39.131226Z",
     "iopub.status.busy": "2023-01-10T07:40:39.130704Z",
     "iopub.status.idle": "2023-01-10T07:40:39.637807Z",
     "shell.execute_reply": "2023-01-10T07:40:39.636541Z"
    },
    "papermill": {
     "duration": 0.515062,
     "end_time": "2023-01-10T07:40:39.639738",
     "exception": false,
     "start_time": "2023-01-10T07:40:39.124676",
     "status": "completed"
    },
    "tags": []
   },
   "outputs": [
    {
     "data": {
      "text/html": [
       "<div>\n",
       "<style scoped>\n",
       "    .dataframe tbody tr th:only-of-type {\n",
       "        vertical-align: middle;\n",
       "    }\n",
       "\n",
       "    .dataframe tbody tr th {\n",
       "        vertical-align: top;\n",
       "    }\n",
       "\n",
       "    .dataframe thead th {\n",
       "        text-align: right;\n",
       "    }\n",
       "</style>\n",
       "<table border=\"1\" class=\"dataframe\">\n",
       "  <thead>\n",
       "    <tr style=\"text-align: right;\">\n",
       "      <th></th>\n",
       "      <th>id</th>\n",
       "      <th>query</th>\n",
       "      <th>product_title</th>\n",
       "      <th>product_description</th>\n",
       "      <th>median_relevance</th>\n",
       "      <th>relevance_variance</th>\n",
       "    </tr>\n",
       "  </thead>\n",
       "  <tbody>\n",
       "    <tr>\n",
       "      <th>0</th>\n",
       "      <td>1</td>\n",
       "      <td>bridal shower decorations</td>\n",
       "      <td>Accent Pillow with Heart Design - Red/Black</td>\n",
       "      <td>Red satin accent pillow embroidered with a hea...</td>\n",
       "      <td>1</td>\n",
       "      <td>0.000</td>\n",
       "    </tr>\n",
       "    <tr>\n",
       "      <th>1</th>\n",
       "      <td>2</td>\n",
       "      <td>led christmas lights</td>\n",
       "      <td>Set of 10 Battery Operated Multi LED Train Chr...</td>\n",
       "      <td>Set of 10 Battery Operated Train Christmas Lig...</td>\n",
       "      <td>4</td>\n",
       "      <td>0.000</td>\n",
       "    </tr>\n",
       "    <tr>\n",
       "      <th>2</th>\n",
       "      <td>4</td>\n",
       "      <td>projector</td>\n",
       "      <td>ViewSonic Pro8200 DLP Multimedia Projector</td>\n",
       "      <td>NaN</td>\n",
       "      <td>4</td>\n",
       "      <td>0.471</td>\n",
       "    </tr>\n",
       "    <tr>\n",
       "      <th>3</th>\n",
       "      <td>5</td>\n",
       "      <td>wine rack</td>\n",
       "      <td>Concept Housewares WR-44526 Solid-Wood Ceiling...</td>\n",
       "      <td>Like a silent and sturdy tree, the Southern En...</td>\n",
       "      <td>4</td>\n",
       "      <td>0.000</td>\n",
       "    </tr>\n",
       "    <tr>\n",
       "      <th>4</th>\n",
       "      <td>7</td>\n",
       "      <td>light bulb</td>\n",
       "      <td>Wintergreen Lighting Christmas LED Light Bulb ...</td>\n",
       "      <td>WTGR1011\\nFeatures\\nNickel base, 60,000 averag...</td>\n",
       "      <td>2</td>\n",
       "      <td>0.471</td>\n",
       "    </tr>\n",
       "  </tbody>\n",
       "</table>\n",
       "</div>"
      ],
      "text/plain": [
       "   id                      query  \\\n",
       "0   1  bridal shower decorations   \n",
       "1   2       led christmas lights   \n",
       "2   4                  projector   \n",
       "3   5                  wine rack   \n",
       "4   7                 light bulb   \n",
       "\n",
       "                                       product_title  \\\n",
       "0        Accent Pillow with Heart Design - Red/Black   \n",
       "1  Set of 10 Battery Operated Multi LED Train Chr...   \n",
       "2         ViewSonic Pro8200 DLP Multimedia Projector   \n",
       "3  Concept Housewares WR-44526 Solid-Wood Ceiling...   \n",
       "4  Wintergreen Lighting Christmas LED Light Bulb ...   \n",
       "\n",
       "                                 product_description  median_relevance  \\\n",
       "0  Red satin accent pillow embroidered with a hea...                 1   \n",
       "1  Set of 10 Battery Operated Train Christmas Lig...                 4   \n",
       "2                                                NaN                 4   \n",
       "3  Like a silent and sturdy tree, the Southern En...                 4   \n",
       "4  WTGR1011\\nFeatures\\nNickel base, 60,000 averag...                 2   \n",
       "\n",
       "   relevance_variance  \n",
       "0               0.000  \n",
       "1               0.000  \n",
       "2               0.471  \n",
       "3               0.000  \n",
       "4               0.471  "
      ]
     },
     "execution_count": 2,
     "metadata": {},
     "output_type": "execute_result"
    }
   ],
   "source": [
    "train = pd.read_csv('/kaggle/input/crowdflower-search-relevance/train.csv.zip')\n",
    "test = pd.read_csv('/kaggle/input/crowdflower-search-relevance/test.csv.zip')\n",
    "train.head()"
   ]
  },
  {
   "cell_type": "code",
   "execution_count": 3,
   "id": "563eea33",
   "metadata": {
    "execution": {
     "iopub.execute_input": "2023-01-10T07:40:39.651221Z",
     "iopub.status.busy": "2023-01-10T07:40:39.650761Z",
     "iopub.status.idle": "2023-01-10T07:40:39.680109Z",
     "shell.execute_reply": "2023-01-10T07:40:39.678595Z"
    },
    "papermill": {
     "duration": 0.037157,
     "end_time": "2023-01-10T07:40:39.681925",
     "exception": false,
     "start_time": "2023-01-10T07:40:39.644768",
     "status": "completed"
    },
    "tags": []
   },
   "outputs": [
    {
     "name": "stdout",
     "output_type": "stream",
     "text": [
      "<class 'pandas.core.frame.DataFrame'>\n",
      "RangeIndex: 10158 entries, 0 to 10157\n",
      "Data columns (total 6 columns):\n",
      " #   Column               Non-Null Count  Dtype  \n",
      "---  ------               --------------  -----  \n",
      " 0   id                   10158 non-null  int64  \n",
      " 1   query                10158 non-null  object \n",
      " 2   product_title        10158 non-null  object \n",
      " 3   product_description  7714 non-null   object \n",
      " 4   median_relevance     10158 non-null  int64  \n",
      " 5   relevance_variance   10158 non-null  float64\n",
      "dtypes: float64(1), int64(2), object(3)\n",
      "memory usage: 476.3+ KB\n"
     ]
    }
   ],
   "source": [
    "train.info()"
   ]
  },
  {
   "cell_type": "code",
   "execution_count": 4,
   "id": "a2485365",
   "metadata": {
    "execution": {
     "iopub.execute_input": "2023-01-10T07:40:39.693618Z",
     "iopub.status.busy": "2023-01-10T07:40:39.693226Z",
     "iopub.status.idle": "2023-01-10T07:40:39.710279Z",
     "shell.execute_reply": "2023-01-10T07:40:39.709263Z"
    },
    "papermill": {
     "duration": 0.025343,
     "end_time": "2023-01-10T07:40:39.712504",
     "exception": false,
     "start_time": "2023-01-10T07:40:39.687161",
     "status": "completed"
    },
    "tags": []
   },
   "outputs": [
    {
     "name": "stdout",
     "output_type": "stream",
     "text": [
      "<class 'pandas.core.frame.DataFrame'>\n",
      "RangeIndex: 22513 entries, 0 to 22512\n",
      "Data columns (total 4 columns):\n",
      " #   Column               Non-Null Count  Dtype \n",
      "---  ------               --------------  ----- \n",
      " 0   id                   22513 non-null  int64 \n",
      " 1   query                22513 non-null  object\n",
      " 2   product_title        22513 non-null  object\n",
      " 3   product_description  17086 non-null  object\n",
      "dtypes: int64(1), object(3)\n",
      "memory usage: 703.7+ KB\n"
     ]
    }
   ],
   "source": [
    "test.info()"
   ]
  },
  {
   "cell_type": "code",
   "execution_count": 5,
   "id": "d31ea5a7",
   "metadata": {
    "execution": {
     "iopub.execute_input": "2023-01-10T07:40:39.725709Z",
     "iopub.status.busy": "2023-01-10T07:40:39.725262Z",
     "iopub.status.idle": "2023-01-10T07:40:39.746863Z",
     "shell.execute_reply": "2023-01-10T07:40:39.745504Z"
    },
    "papermill": {
     "duration": 0.030872,
     "end_time": "2023-01-10T07:40:39.749437",
     "exception": false,
     "start_time": "2023-01-10T07:40:39.718565",
     "status": "completed"
    },
    "tags": []
   },
   "outputs": [
    {
     "data": {
      "text/html": [
       "<div>\n",
       "<style scoped>\n",
       "    .dataframe tbody tr th:only-of-type {\n",
       "        vertical-align: middle;\n",
       "    }\n",
       "\n",
       "    .dataframe tbody tr th {\n",
       "        vertical-align: top;\n",
       "    }\n",
       "\n",
       "    .dataframe thead th {\n",
       "        text-align: right;\n",
       "    }\n",
       "</style>\n",
       "<table border=\"1\" class=\"dataframe\">\n",
       "  <thead>\n",
       "    <tr style=\"text-align: right;\">\n",
       "      <th></th>\n",
       "      <th>id</th>\n",
       "      <th>median_relevance</th>\n",
       "      <th>relevance_variance</th>\n",
       "    </tr>\n",
       "  </thead>\n",
       "  <tbody>\n",
       "    <tr>\n",
       "      <th>count</th>\n",
       "      <td>10158.000000</td>\n",
       "      <td>10158.000000</td>\n",
       "      <td>10158.000000</td>\n",
       "    </tr>\n",
       "    <tr>\n",
       "      <th>mean</th>\n",
       "      <td>16353.103071</td>\n",
       "      <td>3.309805</td>\n",
       "      <td>0.377863</td>\n",
       "    </tr>\n",
       "    <tr>\n",
       "      <th>std</th>\n",
       "      <td>9447.106683</td>\n",
       "      <td>0.980666</td>\n",
       "      <td>0.389707</td>\n",
       "    </tr>\n",
       "    <tr>\n",
       "      <th>min</th>\n",
       "      <td>1.000000</td>\n",
       "      <td>1.000000</td>\n",
       "      <td>0.000000</td>\n",
       "    </tr>\n",
       "    <tr>\n",
       "      <th>25%</th>\n",
       "      <td>8078.750000</td>\n",
       "      <td>3.000000</td>\n",
       "      <td>0.000000</td>\n",
       "    </tr>\n",
       "    <tr>\n",
       "      <th>50%</th>\n",
       "      <td>16349.500000</td>\n",
       "      <td>4.000000</td>\n",
       "      <td>0.471000</td>\n",
       "    </tr>\n",
       "    <tr>\n",
       "      <th>75%</th>\n",
       "      <td>24570.750000</td>\n",
       "      <td>4.000000</td>\n",
       "      <td>0.471000</td>\n",
       "    </tr>\n",
       "    <tr>\n",
       "      <th>max</th>\n",
       "      <td>32668.000000</td>\n",
       "      <td>4.000000</td>\n",
       "      <td>1.470000</td>\n",
       "    </tr>\n",
       "  </tbody>\n",
       "</table>\n",
       "</div>"
      ],
      "text/plain": [
       "                 id  median_relevance  relevance_variance\n",
       "count  10158.000000      10158.000000        10158.000000\n",
       "mean   16353.103071          3.309805            0.377863\n",
       "std     9447.106683          0.980666            0.389707\n",
       "min        1.000000          1.000000            0.000000\n",
       "25%     8078.750000          3.000000            0.000000\n",
       "50%    16349.500000          4.000000            0.471000\n",
       "75%    24570.750000          4.000000            0.471000\n",
       "max    32668.000000          4.000000            1.470000"
      ]
     },
     "execution_count": 5,
     "metadata": {},
     "output_type": "execute_result"
    }
   ],
   "source": [
    "train.describe()"
   ]
  },
  {
   "cell_type": "code",
   "execution_count": 6,
   "id": "d4b1d7a8",
   "metadata": {
    "execution": {
     "iopub.execute_input": "2023-01-10T07:40:39.762888Z",
     "iopub.status.busy": "2023-01-10T07:40:39.761615Z",
     "iopub.status.idle": "2023-01-10T07:40:39.775497Z",
     "shell.execute_reply": "2023-01-10T07:40:39.774753Z"
    },
    "papermill": {
     "duration": 0.022272,
     "end_time": "2023-01-10T07:40:39.777253",
     "exception": false,
     "start_time": "2023-01-10T07:40:39.754981",
     "status": "completed"
    },
    "tags": []
   },
   "outputs": [
    {
     "data": {
      "text/plain": [
       "2    5379\n",
       "3    2819\n",
       "4     925\n",
       "1     885\n",
       "6      81\n",
       "5      69\n",
       "Name: query, dtype: int64"
      ]
     },
     "execution_count": 6,
     "metadata": {},
     "output_type": "execute_result"
    }
   ],
   "source": [
    "train['query'].map(lambda x:len(x.split())).value_counts()"
   ]
  },
  {
   "cell_type": "code",
   "execution_count": 7,
   "id": "87904695",
   "metadata": {
    "execution": {
     "iopub.execute_input": "2023-01-10T07:40:39.790682Z",
     "iopub.status.busy": "2023-01-10T07:40:39.789398Z",
     "iopub.status.idle": "2023-01-10T07:40:39.805608Z",
     "shell.execute_reply": "2023-01-10T07:40:39.804640Z"
    },
    "papermill": {
     "duration": 0.024475,
     "end_time": "2023-01-10T07:40:39.807349",
     "exception": false,
     "start_time": "2023-01-10T07:40:39.782874",
     "status": "completed"
    },
    "tags": []
   },
   "outputs": [
    {
     "data": {
      "text/plain": [
       "7     1288\n",
       "6     1284\n",
       "8     1183\n",
       "9     1122\n",
       "5     1002\n",
       "10     880\n",
       "11     744\n",
       "12     678\n",
       "4      550\n",
       "13     453\n",
       "14     289\n",
       "15     181\n",
       "3      174\n",
       "17      78\n",
       "16      66\n",
       "2       51\n",
       "18      25\n",
       "19      24\n",
       "20      15\n",
       "24      11\n",
       "21       7\n",
       "25       7\n",
       "27       6\n",
       "26       6\n",
       "22       6\n",
       "28       6\n",
       "23       6\n",
       "29       4\n",
       "1        2\n",
       "46       2\n",
       "32       2\n",
       "38       1\n",
       "44       1\n",
       "34       1\n",
       "31       1\n",
       "43       1\n",
       "41       1\n",
       "Name: product_title, dtype: int64"
      ]
     },
     "execution_count": 7,
     "metadata": {},
     "output_type": "execute_result"
    }
   ],
   "source": [
    "train['product_title'].map(lambda x:len(x.split())).value_counts()"
   ]
  },
  {
   "cell_type": "code",
   "execution_count": 8,
   "id": "c9c5101d",
   "metadata": {
    "execution": {
     "iopub.execute_input": "2023-01-10T07:40:39.821283Z",
     "iopub.status.busy": "2023-01-10T07:40:39.820702Z",
     "iopub.status.idle": "2023-01-10T07:40:39.825149Z",
     "shell.execute_reply": "2023-01-10T07:40:39.824567Z"
    },
    "papermill": {
     "duration": 0.014019,
     "end_time": "2023-01-10T07:40:39.826984",
     "exception": false,
     "start_time": "2023-01-10T07:40:39.812965",
     "status": "completed"
    },
    "tags": []
   },
   "outputs": [],
   "source": [
    "split = int(len(train)*0.8)\n",
    "train_0, dev = train[:split], train[split:]"
   ]
  },
  {
   "cell_type": "code",
   "execution_count": 9,
   "id": "0419356c",
   "metadata": {
    "execution": {
     "iopub.execute_input": "2023-01-10T07:40:39.840207Z",
     "iopub.status.busy": "2023-01-10T07:40:39.839044Z",
     "iopub.status.idle": "2023-01-10T07:40:39.861331Z",
     "shell.execute_reply": "2023-01-10T07:40:39.860166Z"
    },
    "papermill": {
     "duration": 0.031184,
     "end_time": "2023-01-10T07:40:39.863727",
     "exception": false,
     "start_time": "2023-01-10T07:40:39.832543",
     "status": "completed"
    },
    "tags": []
   },
   "outputs": [
    {
     "data": {
      "text/html": [
       "<div>\n",
       "<style scoped>\n",
       "    .dataframe tbody tr th:only-of-type {\n",
       "        vertical-align: middle;\n",
       "    }\n",
       "\n",
       "    .dataframe tbody tr th {\n",
       "        vertical-align: top;\n",
       "    }\n",
       "\n",
       "    .dataframe thead th {\n",
       "        text-align: right;\n",
       "    }\n",
       "</style>\n",
       "<table border=\"1\" class=\"dataframe\">\n",
       "  <thead>\n",
       "    <tr style=\"text-align: right;\">\n",
       "      <th></th>\n",
       "      <th>id</th>\n",
       "      <th>median_relevance</th>\n",
       "      <th>relevance_variance</th>\n",
       "    </tr>\n",
       "  </thead>\n",
       "  <tbody>\n",
       "    <tr>\n",
       "      <th>count</th>\n",
       "      <td>2032.000000</td>\n",
       "      <td>2032.000000</td>\n",
       "      <td>2032.000000</td>\n",
       "    </tr>\n",
       "    <tr>\n",
       "      <th>mean</th>\n",
       "      <td>29406.014764</td>\n",
       "      <td>3.319390</td>\n",
       "      <td>0.361364</td>\n",
       "    </tr>\n",
       "    <tr>\n",
       "      <th>std</th>\n",
       "      <td>1870.217123</td>\n",
       "      <td>0.972218</td>\n",
       "      <td>0.379619</td>\n",
       "    </tr>\n",
       "    <tr>\n",
       "      <th>min</th>\n",
       "      <td>26215.000000</td>\n",
       "      <td>1.000000</td>\n",
       "      <td>0.000000</td>\n",
       "    </tr>\n",
       "    <tr>\n",
       "      <th>25%</th>\n",
       "      <td>27777.250000</td>\n",
       "      <td>3.000000</td>\n",
       "      <td>0.000000</td>\n",
       "    </tr>\n",
       "    <tr>\n",
       "      <th>50%</th>\n",
       "      <td>29410.000000</td>\n",
       "      <td>4.000000</td>\n",
       "      <td>0.471000</td>\n",
       "    </tr>\n",
       "    <tr>\n",
       "      <th>75%</th>\n",
       "      <td>31014.750000</td>\n",
       "      <td>4.000000</td>\n",
       "      <td>0.471000</td>\n",
       "    </tr>\n",
       "    <tr>\n",
       "      <th>max</th>\n",
       "      <td>32668.000000</td>\n",
       "      <td>4.000000</td>\n",
       "      <td>1.470000</td>\n",
       "    </tr>\n",
       "  </tbody>\n",
       "</table>\n",
       "</div>"
      ],
      "text/plain": [
       "                 id  median_relevance  relevance_variance\n",
       "count   2032.000000       2032.000000         2032.000000\n",
       "mean   29406.014764          3.319390            0.361364\n",
       "std     1870.217123          0.972218            0.379619\n",
       "min    26215.000000          1.000000            0.000000\n",
       "25%    27777.250000          3.000000            0.000000\n",
       "50%    29410.000000          4.000000            0.471000\n",
       "75%    31014.750000          4.000000            0.471000\n",
       "max    32668.000000          4.000000            1.470000"
      ]
     },
     "execution_count": 9,
     "metadata": {},
     "output_type": "execute_result"
    }
   ],
   "source": [
    "clean_train_1 = train_0[train_0.relevance_variance <1].copy()\n",
    "clean_train_2 = train_0[train_0.relevance_variance <0.50].copy()\n",
    "dev.describe()"
   ]
  },
  {
   "cell_type": "code",
   "execution_count": 10,
   "id": "1946d416",
   "metadata": {
    "execution": {
     "iopub.execute_input": "2023-01-10T07:40:39.876957Z",
     "iopub.status.busy": "2023-01-10T07:40:39.876629Z",
     "iopub.status.idle": "2023-01-10T07:40:39.895609Z",
     "shell.execute_reply": "2023-01-10T07:40:39.894884Z"
    },
    "papermill": {
     "duration": 0.027645,
     "end_time": "2023-01-10T07:40:39.897371",
     "exception": false,
     "start_time": "2023-01-10T07:40:39.869726",
     "status": "completed"
    },
    "tags": []
   },
   "outputs": [
    {
     "data": {
      "text/html": [
       "<div>\n",
       "<style scoped>\n",
       "    .dataframe tbody tr th:only-of-type {\n",
       "        vertical-align: middle;\n",
       "    }\n",
       "\n",
       "    .dataframe tbody tr th {\n",
       "        vertical-align: top;\n",
       "    }\n",
       "\n",
       "    .dataframe thead th {\n",
       "        text-align: right;\n",
       "    }\n",
       "</style>\n",
       "<table border=\"1\" class=\"dataframe\">\n",
       "  <thead>\n",
       "    <tr style=\"text-align: right;\">\n",
       "      <th></th>\n",
       "      <th>id</th>\n",
       "      <th>median_relevance</th>\n",
       "      <th>relevance_variance</th>\n",
       "    </tr>\n",
       "  </thead>\n",
       "  <tbody>\n",
       "    <tr>\n",
       "      <th>count</th>\n",
       "      <td>7558.000000</td>\n",
       "      <td>7558.000000</td>\n",
       "      <td>7558.000000</td>\n",
       "    </tr>\n",
       "    <tr>\n",
       "      <th>mean</th>\n",
       "      <td>13074.201111</td>\n",
       "      <td>3.344403</td>\n",
       "      <td>0.321038</td>\n",
       "    </tr>\n",
       "    <tr>\n",
       "      <th>std</th>\n",
       "      <td>7571.543134</td>\n",
       "      <td>0.974908</td>\n",
       "      <td>0.332482</td>\n",
       "    </tr>\n",
       "    <tr>\n",
       "      <th>min</th>\n",
       "      <td>1.000000</td>\n",
       "      <td>1.000000</td>\n",
       "      <td>0.000000</td>\n",
       "    </tr>\n",
       "    <tr>\n",
       "      <th>25%</th>\n",
       "      <td>6496.500000</td>\n",
       "      <td>3.000000</td>\n",
       "      <td>0.000000</td>\n",
       "    </tr>\n",
       "    <tr>\n",
       "      <th>50%</th>\n",
       "      <td>13129.000000</td>\n",
       "      <td>4.000000</td>\n",
       "      <td>0.471000</td>\n",
       "    </tr>\n",
       "    <tr>\n",
       "      <th>75%</th>\n",
       "      <td>19563.250000</td>\n",
       "      <td>4.000000</td>\n",
       "      <td>0.471000</td>\n",
       "    </tr>\n",
       "    <tr>\n",
       "      <th>max</th>\n",
       "      <td>26208.000000</td>\n",
       "      <td>4.000000</td>\n",
       "      <td>0.980000</td>\n",
       "    </tr>\n",
       "  </tbody>\n",
       "</table>\n",
       "</div>"
      ],
      "text/plain": [
       "                 id  median_relevance  relevance_variance\n",
       "count   7558.000000       7558.000000         7558.000000\n",
       "mean   13074.201111          3.344403            0.321038\n",
       "std     7571.543134          0.974908            0.332482\n",
       "min        1.000000          1.000000            0.000000\n",
       "25%     6496.500000          3.000000            0.000000\n",
       "50%    13129.000000          4.000000            0.471000\n",
       "75%    19563.250000          4.000000            0.471000\n",
       "max    26208.000000          4.000000            0.980000"
      ]
     },
     "execution_count": 10,
     "metadata": {},
     "output_type": "execute_result"
    }
   ],
   "source": [
    "clean_train_1.describe()"
   ]
  },
  {
   "cell_type": "code",
   "execution_count": 11,
   "id": "3b9d037e",
   "metadata": {
    "execution": {
     "iopub.execute_input": "2023-01-10T07:40:39.911033Z",
     "iopub.status.busy": "2023-01-10T07:40:39.910336Z",
     "iopub.status.idle": "2023-01-10T07:40:39.930262Z",
     "shell.execute_reply": "2023-01-10T07:40:39.928798Z"
    },
    "papermill": {
     "duration": 0.029003,
     "end_time": "2023-01-10T07:40:39.932288",
     "exception": false,
     "start_time": "2023-01-10T07:40:39.903285",
     "status": "completed"
    },
    "tags": []
   },
   "outputs": [
    {
     "data": {
      "text/html": [
       "<div>\n",
       "<style scoped>\n",
       "    .dataframe tbody tr th:only-of-type {\n",
       "        vertical-align: middle;\n",
       "    }\n",
       "\n",
       "    .dataframe tbody tr th {\n",
       "        vertical-align: top;\n",
       "    }\n",
       "\n",
       "    .dataframe thead th {\n",
       "        text-align: right;\n",
       "    }\n",
       "</style>\n",
       "<table border=\"1\" class=\"dataframe\">\n",
       "  <thead>\n",
       "    <tr style=\"text-align: right;\">\n",
       "      <th></th>\n",
       "      <th>id</th>\n",
       "      <th>median_relevance</th>\n",
       "      <th>relevance_variance</th>\n",
       "    </tr>\n",
       "  </thead>\n",
       "  <tbody>\n",
       "    <tr>\n",
       "      <th>count</th>\n",
       "      <td>6206.000000</td>\n",
       "      <td>6206.000000</td>\n",
       "      <td>6206.000000</td>\n",
       "    </tr>\n",
       "    <tr>\n",
       "      <th>mean</th>\n",
       "      <td>13154.066549</td>\n",
       "      <td>3.432646</td>\n",
       "      <td>0.202590</td>\n",
       "    </tr>\n",
       "    <tr>\n",
       "      <th>std</th>\n",
       "      <td>7570.559783</td>\n",
       "      <td>0.959901</td>\n",
       "      <td>0.232434</td>\n",
       "    </tr>\n",
       "    <tr>\n",
       "      <th>min</th>\n",
       "      <td>1.000000</td>\n",
       "      <td>1.000000</td>\n",
       "      <td>0.000000</td>\n",
       "    </tr>\n",
       "    <tr>\n",
       "      <th>25%</th>\n",
       "      <td>6576.750000</td>\n",
       "      <td>3.000000</td>\n",
       "      <td>0.000000</td>\n",
       "    </tr>\n",
       "    <tr>\n",
       "      <th>50%</th>\n",
       "      <td>13299.500000</td>\n",
       "      <td>4.000000</td>\n",
       "      <td>0.000000</td>\n",
       "    </tr>\n",
       "    <tr>\n",
       "      <th>75%</th>\n",
       "      <td>19708.000000</td>\n",
       "      <td>4.000000</td>\n",
       "      <td>0.471000</td>\n",
       "    </tr>\n",
       "    <tr>\n",
       "      <th>max</th>\n",
       "      <td>26208.000000</td>\n",
       "      <td>4.000000</td>\n",
       "      <td>0.490000</td>\n",
       "    </tr>\n",
       "  </tbody>\n",
       "</table>\n",
       "</div>"
      ],
      "text/plain": [
       "                 id  median_relevance  relevance_variance\n",
       "count   6206.000000       6206.000000         6206.000000\n",
       "mean   13154.066549          3.432646            0.202590\n",
       "std     7570.559783          0.959901            0.232434\n",
       "min        1.000000          1.000000            0.000000\n",
       "25%     6576.750000          3.000000            0.000000\n",
       "50%    13299.500000          4.000000            0.000000\n",
       "75%    19708.000000          4.000000            0.471000\n",
       "max    26208.000000          4.000000            0.490000"
      ]
     },
     "execution_count": 11,
     "metadata": {},
     "output_type": "execute_result"
    }
   ],
   "source": [
    "clean_train_2.describe()"
   ]
  },
  {
   "cell_type": "code",
   "execution_count": 12,
   "id": "c9f79b55",
   "metadata": {
    "execution": {
     "iopub.execute_input": "2023-01-10T07:40:39.946472Z",
     "iopub.status.busy": "2023-01-10T07:40:39.946092Z",
     "iopub.status.idle": "2023-01-10T07:40:40.083124Z",
     "shell.execute_reply": "2023-01-10T07:40:40.082122Z"
    },
    "papermill": {
     "duration": 0.147086,
     "end_time": "2023-01-10T07:40:40.085568",
     "exception": false,
     "start_time": "2023-01-10T07:40:39.938482",
     "status": "completed"
    },
    "tags": []
   },
   "outputs": [],
   "source": [
    "## Skipping product description as it's too lengthy and missing values\n",
    "train = clean_train_1\n",
    "train_input = train.apply(lambda x: x['query']+' '+x['product_title'], axis=1)\n",
    "dev_input =  dev.apply(lambda x: x['query']+' '+x['product_title'], axis=1)"
   ]
  },
  {
   "cell_type": "code",
   "execution_count": 13,
   "id": "98aab63b",
   "metadata": {
    "execution": {
     "iopub.execute_input": "2023-01-10T07:40:40.099929Z",
     "iopub.status.busy": "2023-01-10T07:40:40.099569Z",
     "iopub.status.idle": "2023-01-10T07:40:41.862930Z",
     "shell.execute_reply": "2023-01-10T07:40:41.861256Z"
    },
    "papermill": {
     "duration": 1.773877,
     "end_time": "2023-01-10T07:40:41.865673",
     "exception": false,
     "start_time": "2023-01-10T07:40:40.091796",
     "status": "completed"
    },
    "tags": []
   },
   "outputs": [],
   "source": [
    "from sklearn.feature_extraction.text import TfidfVectorizer \n",
    "tfidf = TfidfVectorizer(ngram_range=(1, 5),stop_words = 'english', strip_accents='unicode')\n",
    "train_x = tfidf.fit_transform(train_input)\n",
    "dev_x = tfidf.transform(dev_input)"
   ]
  },
  {
   "cell_type": "code",
   "execution_count": 14,
   "id": "f9abe564",
   "metadata": {
    "execution": {
     "iopub.execute_input": "2023-01-10T07:40:41.880137Z",
     "iopub.status.busy": "2023-01-10T07:40:41.879784Z",
     "iopub.status.idle": "2023-01-10T07:40:41.898026Z",
     "shell.execute_reply": "2023-01-10T07:40:41.897146Z"
    },
    "papermill": {
     "duration": 0.028327,
     "end_time": "2023-01-10T07:40:41.900824",
     "exception": false,
     "start_time": "2023-01-10T07:40:41.872497",
     "status": "completed"
    },
    "tags": []
   },
   "outputs": [
    {
     "data": {
      "text/plain": [
       "(0.781467760430449, 1.0, 0.0)"
      ]
     },
     "execution_count": 14,
     "metadata": {},
     "output_type": "execute_result"
    }
   ],
   "source": [
    "train_y, dev_y = train.median_relevance.to_list(), dev.median_relevance.to_list()\n",
    "train_y = [(x-1)/3 for x in train_y]\n",
    "dev_y = [(x-1)/3 for x in dev_y]\n",
    "np.mean(train_y), np.max(train_y), np.min(train_y)"
   ]
  },
  {
   "cell_type": "code",
   "execution_count": 15,
   "id": "b7377aaa",
   "metadata": {
    "execution": {
     "iopub.execute_input": "2023-01-10T07:40:41.916799Z",
     "iopub.status.busy": "2023-01-10T07:40:41.916346Z",
     "iopub.status.idle": "2023-01-10T07:40:41.968199Z",
     "shell.execute_reply": "2023-01-10T07:40:41.967009Z"
    },
    "papermill": {
     "duration": 0.063284,
     "end_time": "2023-01-10T07:40:41.970565",
     "exception": false,
     "start_time": "2023-01-10T07:40:41.907281",
     "status": "completed"
    },
    "tags": []
   },
   "outputs": [],
   "source": [
    "from sklearn.metrics import mean_squared_error, cohen_kappa_score, make_scorer\n",
    "def reg_scorer(true, pred):\n",
    "    pred = [min(1, max(0,x)) for x in pred]\n",
    "    pred = [int(round((x*3)+1)) for x in pred]\n",
    "    true = [int(round((x*3)+1)) for x in true]\n",
    "    return cohen_kappa_score(true, pred)"
   ]
  },
  {
   "cell_type": "code",
   "execution_count": 16,
   "id": "46109c43",
   "metadata": {
    "execution": {
     "iopub.execute_input": "2023-01-10T07:40:41.985030Z",
     "iopub.status.busy": "2023-01-10T07:40:41.984116Z",
     "iopub.status.idle": "2023-01-10T07:46:41.791711Z",
     "shell.execute_reply": "2023-01-10T07:46:41.790334Z"
    },
    "papermill": {
     "duration": 359.823627,
     "end_time": "2023-01-10T07:46:41.800482",
     "exception": false,
     "start_time": "2023-01-10T07:40:41.976855",
     "status": "completed"
    },
    "tags": []
   },
   "outputs": [
    {
     "name": "stdout",
     "output_type": "stream",
     "text": [
      "Fitting 5 folds for each of 48 candidates, totalling 240 fits\n"
     ]
    },
    {
     "data": {
      "text/plain": [
       "(SVR(C=1, kernel='sigmoid'),\n",
       " {'C': 1, 'epsilon': 0.1, 'kernel': 'sigmoid'},\n",
       " 0.18160629348327167)"
      ]
     },
     "execution_count": 16,
     "metadata": {},
     "output_type": "execute_result"
    }
   ],
   "source": [
    "from sklearn.linear_model import LinearRegression, SGDRegressor\n",
    "from sklearn.pipeline import make_pipeline\n",
    "from sklearn.preprocessing import StandardScaler\n",
    "from sklearn.model_selection import GridSearchCV\n",
    "from sklearn.svm import SVR\n",
    "#clf = LinearRegression().fit(train_x, train_y)\n",
    "#clf = SGDRegressor(verbose=1,n_iter_no_change=20).fit(train_x, train_y)\n",
    "param_grid = {'C': [1,2,5,10], 'epsilon':[0.1,0.2,0.5], 'kernel': ('linear', 'rbf', 'poly','sigmoid')}\n",
    "svr  = SVR()\n",
    "scorer = make_scorer(reg_scorer, greater_is_better=True)\n",
    "clf = GridSearchCV(svr, param_grid, verbose=True,scoring=scorer, n_jobs=8)\n",
    "clf.fit(train_x, train_y)\n",
    "clf.best_estimator_, clf.best_params_, clf.best_score_"
   ]
  },
  {
   "cell_type": "code",
   "execution_count": 17,
   "id": "4a058c8b",
   "metadata": {
    "execution": {
     "iopub.execute_input": "2023-01-10T07:46:41.815042Z",
     "iopub.status.busy": "2023-01-10T07:46:41.814670Z",
     "iopub.status.idle": "2023-01-10T07:46:43.162031Z",
     "shell.execute_reply": "2023-01-10T07:46:43.160804Z"
    },
    "papermill": {
     "duration": 1.357424,
     "end_time": "2023-01-10T07:46:43.164186",
     "exception": false,
     "start_time": "2023-01-10T07:46:41.806762",
     "status": "completed"
    },
    "tags": []
   },
   "outputs": [
    {
     "data": {
      "text/plain": [
       "(0.06767389314465777, 0.2764812050216445)"
      ]
     },
     "execution_count": 17,
     "metadata": {},
     "output_type": "execute_result"
    }
   ],
   "source": [
    "## 0.26 is the best score till now\n",
    "\n",
    "preds = clf.best_estimator_.predict(dev_x)\n",
    "mean_squared_error(dev_y, preds),  reg_scorer(dev_y, preds)"
   ]
  },
  {
   "cell_type": "code",
   "execution_count": 18,
   "id": "2c555505",
   "metadata": {
    "execution": {
     "iopub.execute_input": "2023-01-10T07:46:43.180081Z",
     "iopub.status.busy": "2023-01-10T07:46:43.179411Z",
     "iopub.status.idle": "2023-01-10T07:46:59.193103Z",
     "shell.execute_reply": "2023-01-10T07:46:59.192082Z"
    },
    "papermill": {
     "duration": 16.024563,
     "end_time": "2023-01-10T07:46:59.195548",
     "exception": false,
     "start_time": "2023-01-10T07:46:43.170985",
     "status": "completed"
    },
    "tags": []
   },
   "outputs": [],
   "source": [
    "test_input =  test.apply(lambda x: x['query']+' '+x['product_title'], axis=1)\n",
    "test_x = tfidf.transform(test_input)\n",
    "pred = clf.best_estimator_.predict(test_x)\n",
    "pred = [min(1, max(0,x)) for x in pred]\n",
    "pred = [int(round((x*3)+1)) for x in pred]\n",
    "out = pd.DataFrame({\"id\": test.id.to_list(), \"prediction\": pred})\n",
    "out.to_csv('submission.csv', index=False)"
   ]
  },
  {
   "cell_type": "code",
   "execution_count": 19,
   "id": "b220c138",
   "metadata": {
    "execution": {
     "iopub.execute_input": "2023-01-10T07:46:59.209994Z",
     "iopub.status.busy": "2023-01-10T07:46:59.209659Z",
     "iopub.status.idle": "2023-01-10T07:46:59.245681Z",
     "shell.execute_reply": "2023-01-10T07:46:59.244306Z"
    },
    "papermill": {
     "duration": 0.046253,
     "end_time": "2023-01-10T07:46:59.248447",
     "exception": false,
     "start_time": "2023-01-10T07:46:59.202194",
     "status": "completed"
    },
    "tags": []
   },
   "outputs": [
    {
     "data": {
      "text/html": [
       "<div>\n",
       "<style scoped>\n",
       "    .dataframe tbody tr th:only-of-type {\n",
       "        vertical-align: middle;\n",
       "    }\n",
       "\n",
       "    .dataframe tbody tr th {\n",
       "        vertical-align: top;\n",
       "    }\n",
       "\n",
       "    .dataframe thead th {\n",
       "        text-align: right;\n",
       "    }\n",
       "</style>\n",
       "<table border=\"1\" class=\"dataframe\">\n",
       "  <thead>\n",
       "    <tr style=\"text-align: right;\">\n",
       "      <th></th>\n",
       "      <th>id</th>\n",
       "      <th>prediction</th>\n",
       "    </tr>\n",
       "  </thead>\n",
       "  <tbody>\n",
       "    <tr>\n",
       "      <th>0</th>\n",
       "      <td>3</td>\n",
       "      <td>3</td>\n",
       "    </tr>\n",
       "    <tr>\n",
       "      <th>1</th>\n",
       "      <td>6</td>\n",
       "      <td>3</td>\n",
       "    </tr>\n",
       "    <tr>\n",
       "      <th>2</th>\n",
       "      <td>9</td>\n",
       "      <td>3</td>\n",
       "    </tr>\n",
       "    <tr>\n",
       "      <th>3</th>\n",
       "      <td>11</td>\n",
       "      <td>3</td>\n",
       "    </tr>\n",
       "    <tr>\n",
       "      <th>4</th>\n",
       "      <td>12</td>\n",
       "      <td>3</td>\n",
       "    </tr>\n",
       "    <tr>\n",
       "      <th>...</th>\n",
       "      <td>...</td>\n",
       "      <td>...</td>\n",
       "    </tr>\n",
       "    <tr>\n",
       "      <th>22508</th>\n",
       "      <td>32665</td>\n",
       "      <td>3</td>\n",
       "    </tr>\n",
       "    <tr>\n",
       "      <th>22509</th>\n",
       "      <td>32667</td>\n",
       "      <td>3</td>\n",
       "    </tr>\n",
       "    <tr>\n",
       "      <th>22510</th>\n",
       "      <td>32669</td>\n",
       "      <td>3</td>\n",
       "    </tr>\n",
       "    <tr>\n",
       "      <th>22511</th>\n",
       "      <td>32670</td>\n",
       "      <td>3</td>\n",
       "    </tr>\n",
       "    <tr>\n",
       "      <th>22512</th>\n",
       "      <td>32671</td>\n",
       "      <td>3</td>\n",
       "    </tr>\n",
       "  </tbody>\n",
       "</table>\n",
       "<p>22513 rows × 2 columns</p>\n",
       "</div>"
      ],
      "text/plain": [
       "          id  prediction\n",
       "0          3           3\n",
       "1          6           3\n",
       "2          9           3\n",
       "3         11           3\n",
       "4         12           3\n",
       "...      ...         ...\n",
       "22508  32665           3\n",
       "22509  32667           3\n",
       "22510  32669           3\n",
       "22511  32670           3\n",
       "22512  32671           3\n",
       "\n",
       "[22513 rows x 2 columns]"
      ]
     },
     "execution_count": 19,
     "metadata": {},
     "output_type": "execute_result"
    }
   ],
   "source": [
    "sub = pd.read_csv('/kaggle/input/crowdflower-search-relevance/sampleSubmission.csv.zip')\n",
    "sub"
   ]
  },
  {
   "cell_type": "code",
   "execution_count": 20,
   "id": "a819feef",
   "metadata": {
    "execution": {
     "iopub.execute_input": "2023-01-10T07:46:59.264278Z",
     "iopub.status.busy": "2023-01-10T07:46:59.263687Z",
     "iopub.status.idle": "2023-01-10T07:46:59.276336Z",
     "shell.execute_reply": "2023-01-10T07:46:59.274591Z"
    },
    "papermill": {
     "duration": 0.023389,
     "end_time": "2023-01-10T07:46:59.278694",
     "exception": false,
     "start_time": "2023-01-10T07:46:59.255305",
     "status": "completed"
    },
    "tags": []
   },
   "outputs": [
    {
     "data": {
      "text/html": [
       "<div>\n",
       "<style scoped>\n",
       "    .dataframe tbody tr th:only-of-type {\n",
       "        vertical-align: middle;\n",
       "    }\n",
       "\n",
       "    .dataframe tbody tr th {\n",
       "        vertical-align: top;\n",
       "    }\n",
       "\n",
       "    .dataframe thead th {\n",
       "        text-align: right;\n",
       "    }\n",
       "</style>\n",
       "<table border=\"1\" class=\"dataframe\">\n",
       "  <thead>\n",
       "    <tr style=\"text-align: right;\">\n",
       "      <th></th>\n",
       "      <th>id</th>\n",
       "      <th>prediction</th>\n",
       "    </tr>\n",
       "  </thead>\n",
       "  <tbody>\n",
       "    <tr>\n",
       "      <th>0</th>\n",
       "      <td>3</td>\n",
       "      <td>4</td>\n",
       "    </tr>\n",
       "    <tr>\n",
       "      <th>1</th>\n",
       "      <td>6</td>\n",
       "      <td>4</td>\n",
       "    </tr>\n",
       "    <tr>\n",
       "      <th>2</th>\n",
       "      <td>9</td>\n",
       "      <td>3</td>\n",
       "    </tr>\n",
       "    <tr>\n",
       "      <th>3</th>\n",
       "      <td>11</td>\n",
       "      <td>4</td>\n",
       "    </tr>\n",
       "    <tr>\n",
       "      <th>4</th>\n",
       "      <td>12</td>\n",
       "      <td>4</td>\n",
       "    </tr>\n",
       "    <tr>\n",
       "      <th>...</th>\n",
       "      <td>...</td>\n",
       "      <td>...</td>\n",
       "    </tr>\n",
       "    <tr>\n",
       "      <th>22508</th>\n",
       "      <td>32665</td>\n",
       "      <td>3</td>\n",
       "    </tr>\n",
       "    <tr>\n",
       "      <th>22509</th>\n",
       "      <td>32667</td>\n",
       "      <td>4</td>\n",
       "    </tr>\n",
       "    <tr>\n",
       "      <th>22510</th>\n",
       "      <td>32669</td>\n",
       "      <td>1</td>\n",
       "    </tr>\n",
       "    <tr>\n",
       "      <th>22511</th>\n",
       "      <td>32670</td>\n",
       "      <td>4</td>\n",
       "    </tr>\n",
       "    <tr>\n",
       "      <th>22512</th>\n",
       "      <td>32671</td>\n",
       "      <td>4</td>\n",
       "    </tr>\n",
       "  </tbody>\n",
       "</table>\n",
       "<p>22513 rows × 2 columns</p>\n",
       "</div>"
      ],
      "text/plain": [
       "          id  prediction\n",
       "0          3           4\n",
       "1          6           4\n",
       "2          9           3\n",
       "3         11           4\n",
       "4         12           4\n",
       "...      ...         ...\n",
       "22508  32665           3\n",
       "22509  32667           4\n",
       "22510  32669           1\n",
       "22511  32670           4\n",
       "22512  32671           4\n",
       "\n",
       "[22513 rows x 2 columns]"
      ]
     },
     "execution_count": 20,
     "metadata": {},
     "output_type": "execute_result"
    }
   ],
   "source": [
    "out"
   ]
  },
  {
   "cell_type": "code",
   "execution_count": null,
   "id": "5b0978a2",
   "metadata": {
    "papermill": {
     "duration": 0.006393,
     "end_time": "2023-01-10T07:46:59.292560",
     "exception": false,
     "start_time": "2023-01-10T07:46:59.286167",
     "status": "completed"
    },
    "tags": []
   },
   "outputs": [],
   "source": []
  }
 ],
 "metadata": {
  "kernelspec": {
   "display_name": "Python 3",
   "language": "python",
   "name": "python3"
  },
  "language_info": {
   "codemirror_mode": {
    "name": "ipython",
    "version": 3
   },
   "file_extension": ".py",
   "mimetype": "text/x-python",
   "name": "python",
   "nbconvert_exporter": "python",
   "pygments_lexer": "ipython3",
   "version": "3.7.12"
  },
  "papermill": {
   "default_parameters": {},
   "duration": 390.123625,
   "end_time": "2023-01-10T07:47:01.922463",
   "environment_variables": {},
   "exception": null,
   "input_path": "__notebook__.ipynb",
   "output_path": "__notebook__.ipynb",
   "parameters": {},
   "start_time": "2023-01-10T07:40:31.798838",
   "version": "2.3.4"
  }
 },
 "nbformat": 4,
 "nbformat_minor": 5
}
